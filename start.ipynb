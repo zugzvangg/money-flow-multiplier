{
 "cells": [
  {
   "cell_type": "code",
   "execution_count": 127,
   "metadata": {},
   "outputs": [],
   "source": [
    "import pandas as pd\n",
    "import matplotlib.pyplot as plt\n",
    "import numpy as np"
   ]
  },
  {
   "cell_type": "code",
   "execution_count": 93,
   "metadata": {},
   "outputs": [],
   "source": [
    "def get_data():\n",
    "    \"\"\"Unpack data\"\"\"\n",
    "    stock = pd.read_csv(\"data/stock_data.csv\")[[\"date\", \"ticker\", \"open\" , \"high\", \"low\", \"close\"]]\n",
    "    stock[\"date\"] = pd.to_datetime(stock[\"date\"])\n",
    "    tickets = pd.read_csv(\"data/ticker_info.csv\", index_col= 0)\n",
    "    return stock, tickets\n",
    "\n",
    "    "
   ]
  },
  {
   "cell_type": "code",
   "execution_count": 157,
   "metadata": {},
   "outputs": [],
   "source": [
    "def calculate_mfm(data):\n",
    "    data[\"mfm\"] = ((data[\"close\"] - data[\"low\"]) - (data[\"high\"] - data[\"close\"]))*100/(data[\"high\"] - data[\"low\"])\n",
    "    data.loc[data[\"mfm\"].isna(), \"mfm\"] = 0.0\n",
    "    return data\n",
    "\n",
    "def calc_strategy(stock, low = -90.0, high = 90.0):\n",
    "    stock[\"signal\"] = np.nan\n",
    "    stock_numpy = stock.to_numpy()\n",
    "    for index in range(2, len(stock)):\n",
    "        if (stock_numpy[index, 6] <= low) & (stock_numpy[index - 1, 6] > low) & (stock_numpy[index - 2, 6] > low):\n",
    "            stock_numpy[index, 7] = \"buy\"\n",
    "        elif (stock_numpy[index, 6] >= high) & (stock_numpy[index - 1, 6] < high) & (stock_numpy[index - 2, 6] < high):\n",
    "            stock_numpy[index, 7] = \"sell\"\n",
    "    return pd.DataFrame(stock_numpy, columns = stock.columns)\n",
    "\n",
    "\n",
    "        "
   ]
  },
  {
   "cell_type": "code",
   "execution_count": 148,
   "metadata": {},
   "outputs": [],
   "source": [
    "stock, tickets = get_data()"
   ]
  },
  {
   "cell_type": "code",
   "execution_count": 149,
   "metadata": {},
   "outputs": [],
   "source": [
    "single_comp = stock[stock[\"ticker\"]==\"sh603127\"]"
   ]
  },
  {
   "cell_type": "code",
   "execution_count": 150,
   "metadata": {},
   "outputs": [
    {
     "data": {
      "text/plain": [
       "[<matplotlib.lines.Line2D at 0x31046c490>]"
      ]
     },
     "execution_count": 150,
     "metadata": {},
     "output_type": "execute_result"
    },
    {
     "data": {
      "image/png": "[encoded data removed]",
      "text/plain": [
       "<Figure size 432x288 with 1 Axes>"
      ]
     },
     "metadata": {
      "needs_background": "light"
     },
     "output_type": "display_data"
    }
   ],
   "source": [
    "plt.plot(single_comp.date, single_comp.low)"
   ]
  },
  {
   "cell_type": "code",
   "execution_count": 151,
   "metadata": {
    "scrolled": true
   },
   "outputs": [
    {
     "name": "stderr",
     "output_type": "stream",
     "text": [
      "/var/folders/33/pml9j82x2hz0y5wjjt4ws6sm0000gn/T/ipykernel_28899/681483314.py:2: SettingWithCopyWarning: \n",
      "A value is trying to be set on a copy of a slice from a DataFrame.\n",
      "Try using .loc[row_indexer,col_indexer] = value instead\n",
      "\n",
      "See the caveats in the documentation: https://pandas.pydata.org/pandas-docs/stable/user_guide/indexing.html#returning-a-view-versus-a-copy\n",
      "  data[\"mfm\"] = ((data[\"close\"] - data[\"low\"]) - (data[\"high\"] - data[\"close\"]))*100/(data[\"high\"] - data[\"low\"])\n"
     ]
    }
   ],
   "source": [
    "stock_with_mfm = calculate_mfm(single_comp)"
   ]
  },
  {
   "cell_type": "code",
   "execution_count": 158,
   "metadata": {},
   "outputs": [
    {
     "name": "stderr",
     "output_type": "stream",
     "text": [
      "/var/folders/33/pml9j82x2hz0y5wjjt4ws6sm0000gn/T/ipykernel_28899/2670496194.py:7: SettingWithCopyWarning: \n",
      "A value is trying to be set on a copy of a slice from a DataFrame.\n",
      "Try using .loc[row_indexer,col_indexer] = value instead\n",
      "\n",
      "See the caveats in the documentation: https://pandas.pydata.org/pandas-docs/stable/user_guide/indexing.html#returning-a-view-versus-a-copy\n",
      "  stock[\"signal\"] = np.nan\n"
     ]
    }
   ],
   "source": [
    "stock_with_signals = calc_strategy(stock_with_mfm)"
   ]
  },
  {
   "cell_type": "code",
   "execution_count": 159,
   "metadata": {},
   "outputs": [
    {
     "data": {
      "text/html": [
       "<div>\n",
       "<style scoped>\n",
       "    .dataframe tbody tr th:only-of-type {\n",
       "        vertical-align: middle;\n",
       "    }\n",
       "\n",
       "    .dataframe tbody tr th {\n",
       "        vertical-align: top;\n",
       "    }\n",
       "\n",
       "    .dataframe thead th {\n",
       "        text-align: right;\n",
       "    }\n",
       "</style>\n",
       "<table border=\"1\" class=\"dataframe\">\n",
       "  <thead>\n",
       "    <tr style=\"text-align: right;\">\n",
       "      <th></th>\n",
       "      <th>date</th>\n",
       "      <th>ticker</th>\n",
       "      <th>open</th>\n",
       "      <th>high</th>\n",
       "      <th>low</th>\n",
       "      <th>close</th>\n",
       "      <th>mfm</th>\n",
       "      <th>signal</th>\n",
       "    </tr>\n",
       "  </thead>\n",
       "  <tbody>\n",
       "    <tr>\n",
       "      <th>0</th>\n",
       "      <td>2017-08-25</td>\n",
       "      <td>sh603127</td>\n",
       "      <td>4.63</td>\n",
       "      <td>4.63</td>\n",
       "      <td>4.63</td>\n",
       "      <td>4.63</td>\n",
       "      <td>0.0</td>\n",
       "      <td>NaN</td>\n",
       "    </tr>\n",
       "    <tr>\n",
       "      <th>1</th>\n",
       "      <td>2017-08-28</td>\n",
       "      <td>sh603127</td>\n",
       "      <td>5.09</td>\n",
       "      <td>5.09</td>\n",
       "      <td>5.09</td>\n",
       "      <td>5.09</td>\n",
       "      <td>0.0</td>\n",
       "      <td>NaN</td>\n",
       "    </tr>\n",
       "    <tr>\n",
       "      <th>2</th>\n",
       "      <td>2017-08-29</td>\n",
       "      <td>sh603127</td>\n",
       "      <td>5.6</td>\n",
       "      <td>5.6</td>\n",
       "      <td>5.6</td>\n",
       "      <td>5.6</td>\n",
       "      <td>0.0</td>\n",
       "      <td>NaN</td>\n",
       "    </tr>\n",
       "    <tr>\n",
       "      <th>3</th>\n",
       "      <td>2017-08-30</td>\n",
       "      <td>sh603127</td>\n",
       "      <td>6.16</td>\n",
       "      <td>6.16</td>\n",
       "      <td>6.16</td>\n",
       "      <td>6.16</td>\n",
       "      <td>0.0</td>\n",
       "      <td>NaN</td>\n",
       "    </tr>\n",
       "    <tr>\n",
       "      <th>4</th>\n",
       "      <td>2017-08-31</td>\n",
       "      <td>sh603127</td>\n",
       "      <td>6.78</td>\n",
       "      <td>6.78</td>\n",
       "      <td>6.78</td>\n",
       "      <td>6.78</td>\n",
       "      <td>0.0</td>\n",
       "      <td>NaN</td>\n",
       "    </tr>\n",
       "  </tbody>\n",
       "</table>\n",
       "</div>"
      ],
      "text/plain": [
       "        date    ticker  open  high   low close  mfm signal\n",
       "0 2017-08-25  sh603127  4.63  4.63  4.63  4.63  0.0    NaN\n",
       "1 2017-08-28  sh603127  5.09  5.09  5.09  5.09  0.0    NaN\n",
       "2 2017-08-29  sh603127   5.6   5.6   5.6   5.6  0.0    NaN\n",
       "3 2017-08-30  sh603127  6.16  6.16  6.16  6.16  0.0    NaN\n",
       "4 2017-08-31  sh603127  6.78  6.78  6.78  6.78  0.0    NaN"
      ]
     },
     "execution_count": 159,
     "metadata": {},
     "output_type": "execute_result"
    }
   ],
   "source": [
    "stock_with_signals.head()"
   ]
  },
  {
   "cell_type": "code",
   "execution_count": 160,
   "metadata": {},
   "outputs": [
    {
     "data": {
      "text/plain": [
       "sell    61\n",
       "buy     39\n",
       "Name: signal, dtype: int64"
      ]
     },
     "execution_count": 160,
     "metadata": {},
     "output_type": "execute_result"
    }
   ],
   "source": [
    "stock_with_signals.signal.value_counts()"
   ]
  }
 ],
 "metadata": {
  "kernelspec": {
   "display_name": "Python 3 (ipykernel)",
   "language": "python",
   "name": "python3"
  },
  "language_info": {
   "codemirror_mode": {
    "name": "ipython",
    "version": 3
   },
   "file_extension": ".py",
   "mimetype": "text/x-python",
   "name": "python",
   "nbconvert_exporter": "python",
   "pygments_lexer": "ipython3",
   "version": "3.10.5"
  },
  "vscode": {
   "interpreter": {
    "hash": "f5dd1bb2a1d348b6a512b5f4253846ea5c92e8228597cdfbb479a0ebfcaec39c"
   }
  }
 },
 "nbformat": 4,
 "nbformat_minor": 2
}
